{
 "cells": [
  {
   "cell_type": "code",
   "execution_count": 3,
   "metadata": {},
   "outputs": [
    {
     "name": "stdout",
     "output_type": "stream",
     "text": [
      "Twinkle, Twinkle little star, \n",
      "\thow i wonder what you are! \n",
      "\t\tup above the worlds so high\n",
      "Like a diamond in the sky \n",
      "\t\t Twinkle, twikle, little stars \n",
      "\t how i wonder what you are\n"
     ]
    }
   ],
   "source": [
    "print(\"Twinkle, Twinkle little star, \\n\\thow i wonder what you are! \\n\\t\\tup above the worlds so high\\nLike a diamond in the sky \\n\\t\\t Twinkle, twikle, little stars \\n\\t how i wonder what you are\")"
   ]
  },
  {
   "cell_type": "code",
   "execution_count": 4,
   "metadata": {},
   "outputs": [
    {
     "name": "stdout",
     "output_type": "stream",
     "text": [
      "the curret python version is:\n",
      "3.6.5 |Anaconda, Inc.| (default, Mar 29 2018, 13:32:41) [MSC v.1900 64 bit (AMD64)]\n"
     ]
    }
   ],
   "source": [
    "import sys\n",
    "print(\"the curret python version is:\")\n",
    "print(sys.version)"
   ]
  },
  {
   "cell_type": "code",
   "execution_count": 9,
   "metadata": {},
   "outputs": [
    {
     "name": "stdout",
     "output_type": "stream",
     "text": [
      "2019-03-28 12:31:53\n"
     ]
    }
   ],
   "source": [
    "import datetime\n",
    "now = datetime.datetime.now()\n",
    "print(now.strftime(\"%Y-%m-%d %H:%M:%S\"))"
   ]
  },
  {
   "cell_type": "code",
   "execution_count": 14,
   "metadata": {},
   "outputs": [
    {
     "name": "stdout",
     "output_type": "stream",
     "text": [
      "enter the first name of user:steve\n",
      "enter the last name of user:jobs\n",
      "jobs \t\t steve\n"
     ]
    }
   ],
   "source": [
    "first_name = input(\"enter the first name of user:\")\n",
    "last_name = input(\"enter the last name of user:\")\n",
    "print(last_name,\"\\t\\t\",first_name)"
   ]
  },
  {
   "cell_type": "code",
   "execution_count": null,
   "metadata": {},
   "outputs": [],
   "source": [
    "input = int(input('enter a list:'))\n",
    "print(list(input))\n",
    "print(tuple(input))"
   ]
  },
  {
   "cell_type": "markdown",
   "metadata": {},
   "source": [
    "# write a python program which accepts a file and returns a extension of it "
   ]
  },
  {
   "cell_type": "code",
   "execution_count": null,
   "metadata": {},
   "outputs": [],
   "source": [
    "filename = input(\"enter the filename:\")\n",
    "f_extn = filename.split(\".\")\n",
    "print(\"The extension of file is:\"+repr(f_extn[-1]))"
   ]
  },
  {
   "cell_type": "code",
   "execution_count": null,
   "metadata": {},
   "outputs": [],
   "source": [
    "color_list = ['red','green','white','black']\n",
    "color_list[0]\n",
    "color_list[-1]"
   ]
  },
  {
   "cell_type": "code",
   "execution_count": null,
   "metadata": {},
   "outputs": [],
   "source": [
    "exam_date = (10,11,18)\n",
    "print(\"the exam date %i / %i / %i\"%exam_date)"
   ]
  }
 ],
 "metadata": {
  "kernelspec": {
   "display_name": "Python 3",
   "language": "python",
   "name": "python3"
  },
  "language_info": {
   "codemirror_mode": {
    "name": "ipython",
    "version": 3
   },
   "file_extension": ".py",
   "mimetype": "text/x-python",
   "name": "python",
   "nbconvert_exporter": "python",
   "pygments_lexer": "ipython3",
   "version": "3.6.5"
  }
 },
 "nbformat": 4,
 "nbformat_minor": 2
}
